{
 "cells": [
  {
   "cell_type": "code",
   "execution_count": 2,
   "metadata": {},
   "outputs": [
    {
     "name": "stdout",
     "output_type": "stream",
     "text": [
      "['/home/jupyter/meme_hateful_detection/notebooks', '/opt/conda/lib/python37.zip', '/opt/conda/lib/python3.7', '/opt/conda/lib/python3.7/lib-dynload', '', '/opt/conda/lib/python3.7/site-packages', '/opt/conda/lib/python3.7/site-packages/IPython/extensions', '/home/jupyter/.ipython', '/home/jupyter/meme_hateful_detection', '/home/jupyter/meme_hateful_detection/src', '/home/jupyter/meme_hateful_detection/models', '/home/jupyter/meme_hateful_detection/data/raw/flickr8k_images_text', '/home/jupyter/meme_hateful_detection/data/raw/test_images', '/home/jupyter/meme_hateful_detection/src/cap_generator']\n"
     ]
    }
   ],
   "source": [
    "import sys\n",
    "import os\n",
    "PATH_CURRENT = '/home/jupyter/meme_hateful_detection'\n",
    "\n",
    "PATH_CODE = f'{PATH_CURRENT}/src'\n",
    "PATH_DATA = f'{PATH_CURRENT}/data'\n",
    "PATH_MODEL = f'{PATH_CURRENT}/models'\n",
    "PATH_NOTEBOOKS = f'{PATH_CURRENT}/notebooks'\n",
    "\n",
    "PATH_DEV_IMAGES = f'{PATH_CURRENT}/data/raw/flickr8k_images'\n",
    "PATH_TEST_IMAGES = f'{PATH_CURRENT}/data/raw/test_images'\n",
    "PATH_TRAIN_IMAGES = f'{PATH_CURRENT}/data/raw/flickr8k_images'\n",
    "PATH_TRAIN_IMAGES_TEXT = f'{PATH_CURRENT}/data/raw/flickr8k_images_text'\n",
    "PATH_TRAIN_MEMES = f'{PATH_CURRENT}/data/raw/facebook_memes'\n",
    "PATH_MEMES_DATASET = f'{PATH_CURRENT}/data/raw/meme_dataset'\n",
    "\n",
    "PATH_IMAGE_GENERATOR = f'{PATH_CODE}/cap_generator'\n",
    "\n",
    "# module_path = PATH_CURRENT\n",
    "if PATH_CURRENT not in sys.path:\n",
    "    sys.path.append(PATH_CURRENT)\n",
    "if PATH_CODE not in sys.path:\n",
    "    sys.path.append(PATH_CODE)\n",
    "if PATH_MODEL not in sys.path:\n",
    "    sys.path.append(PATH_MODEL)\n",
    "if PATH_TRAIN_IMAGES_TEXT not in sys.path:\n",
    "    sys.path.append(PATH_TRAIN_IMAGES_TEXT)\n",
    "if PATH_TEST_IMAGES not in sys.path:\n",
    "    sys.path.append(PATH_TEST_IMAGES)\n",
    "if PATH_IMAGE_GENERATOR not in sys.path:\n",
    "    sys.path.append(PATH_IMAGE_GENERATOR)\n",
    "    \n",
    "print(sys.path)"
   ]
  }
 ],
 "metadata": {
  "environment": {
   "name": "tf2-gpu.2-1.m46",
   "type": "gcloud",
   "uri": "gcr.io/deeplearning-platform-release/tf2-gpu.2-1:m46"
  },
  "kernelspec": {
   "display_name": "Python 3",
   "language": "python",
   "name": "python3"
  },
  "language_info": {
   "codemirror_mode": {
    "name": "ipython",
    "version": 3
   },
   "file_extension": ".py",
   "mimetype": "text/x-python",
   "name": "python",
   "nbconvert_exporter": "python",
   "pygments_lexer": "ipython3",
   "version": "3.7.6"
  }
 },
 "nbformat": 4,
 "nbformat_minor": 4
}

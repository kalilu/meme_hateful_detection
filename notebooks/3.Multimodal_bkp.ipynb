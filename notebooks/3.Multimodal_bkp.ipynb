{
 "cells": [
  {
   "cell_type": "code",
   "execution_count": null,
   "metadata": {},
   "outputs": [],
   "source": [
    "import sys\n",
    "import os\n",
    "PATH_CURRENT = '/home/jupyter'\n",
    "PATH_MODEL = f'{PATH_CURRENT}/meme_hateful_detection/models'\n",
    "\n",
    "# module_path = PATH_CURRENT\n",
    "if PATH_CURRENT not in sys.path:\n",
    "    sys.path.append(PATH_CURRENT)\n",
    "if PATH_MODEL not in sys.path:\n",
    "    sys.path.append(PATH_MODEL)"
   ]
  },
  {
   "cell_type": "code",
   "execution_count": null,
   "metadata": {},
   "outputs": [],
   "source": [
    "import pandas as pd\n",
    "# import meme_hateful_detection.processors.processors\n",
    "# import meme_hateful_detection.models.concat_vl"
   ]
  },
  {
   "cell_type": "markdown",
   "metadata": {},
   "source": [
    "| Baseline         | Model Key      | Pretrained Key                                   | Baseine Config                                                     |\n",
    "|------------------|----------------|--------------------------------------------------|------------------------------------------------------------|\n",
    "| Image-Grid       | unimodal_image | unimodal_image.hateful_memes.images              | projects/hateful_memes/configs/unimodal/image.yaml         |\n",
    "| Image-Region     | unimodal_image | unimodal_image.hateful_memes.features            | projects/hateful_memes/configs/unimodal/with_features.yaml |\n",
    "| Text BERT        | unimodal_text  | unimodal_text.hateful_memes.bert                 | projects/hateful_memes/configs/unimodal/bert.yaml          |\n",
    "| Late Fusion      | late_fusion    | late_fusion.hateful_memes                        | projects/hateful_memes/configs/late_fusion/defaults.yaml   |\n",
    "| ConcatBERT       | concat_bert    | concat_bert.hateful_memes                        | projects/hateful_memes/configs/concat_bert/defaults.yaml   |\n",
    "| MMBT-Grid        | mmbt           | mmbt.hateful_memes.images                        | projects/hateful_memes/configs/mmbt/defaults.yaml          |\n",
    "| MMBT-Region      | mmbt           | mmbt.hateful_memes.features                      | projects/hateful_memes/configs/mmbt/with_features.yaml     |\n",
    "| ViLBERT          | vilbert        | vilbert.finetuned.hateful_memes.direct           | projects/hateful_memes/configs/vilbert/defaults.yaml       |\n",
    "| Visual BERT      | visual_bert    | visual_bert.finetuned.hateful_memes.direct       | projects/hateful_memes/configs/visual_bert/direct.yaml     |\n",
    "| ViLBERT CC       | vilbert        | vilbert.finetuned.hateful_memes.from_cc_original | projects/hateful_memes/configs/vilbert/from_cc.yaml        |\n",
    "| Visual BERT COCO | visual_bert    | visual_bert.finetuned.hateful_memes.from_coco    | projects/hateful_memes/configs/visual_bert/from_coco.yaml  |"
   ]
  },
  {
   "cell_type": "code",
   "execution_count": null,
   "metadata": {},
   "outputs": [],
   "source": [
    "df_model_config = pd.read_csv(f'{PATH_MODEL}/model_config.csv', sep = ';')\n",
    "df_model_config.head()"
   ]
  },
  {
   "cell_type": "code",
   "execution_count": null,
   "metadata": {},
   "outputs": [],
   "source": [
    "import os\n",
    "import sys\n",
    "sys.argv = ['mmf_predict', 'config=/home/jupyter/meme_hateful_detection/configs/unimodal/image.yaml', 'model=unimodal_image', 'dataset=hateful_memes', 'run_type=test', 'checkpoint.resume_zoo=unimodal_image.hateful_memes.images']\n",
    "str_exec = ' '.join(sys.argv)\n",
    "# !{str_exec}\n",
    "print(str_exec)\n",
    "# !mmf_predict config=/home/jupyter/meme_hateful_detection/configs/unimodal/image.yaml model=unimodal_image dataset=hateful_memes run_type=test checkpoint.resume_zoo=unimodal_image.hateful_memes.images\n",
    "# !mmf_predict config=/home/jupyter/meme_hateful_detection/configs/unimodal/image.yaml model=unimodal_image dataset=hateful_memes run_type=test checkpoint.resume_zoo=unimodal_image.hateful_memes.images\n"
   ]
  },
  {
   "cell_type": "code",
   "execution_count": null,
   "metadata": {},
   "outputs": [],
   "source": [
    "for index, row in df_model_config.iterrows():\n",
    "    model_baseline = row['baseline']\n",
    "    model_key = row['model_key']\n",
    "    model_pretrained_key = row['pretrained_key']\n",
    "    baseline_config = row['baseline_config']\n",
    "    custom_config = row['custom_config']\n",
    "    str_exec = f'mmf_predict config=../{baseline_config} model={model_key} dataset=hateful_memes run_type=test checkpoint.resume_zoo={model_pretrained_key}'\n",
    "#     print(str_exec)\n",
    "    !{str_exec}\n",
    "#     MMF_USER_DIR=\".\" mmf_run config=\"configs/experiments/defaults.yaml\"  model=concat_vl dataset=hateful_memes training.num_workers=0"
   ]
  },
  {
   "cell_type": "code",
   "execution_count": null,
   "metadata": {},
   "outputs": [],
   "source": [
    "!MMF_USER_DIR=\"..\" mmf_run config=\"/home/jupyter/meme_hateful_detection/configs/unimodal/image.yaml\" model=unimodal_image dataset=hateful_memes training.num_workers=0\n",
    "# meme_hateful_detection/configs/unimodal/image.yaml\n",
    "# !mmf_run config=projects/hateful_memes/configs/unimodal/image.yaml       model=unimodal_image dataset=hateful_memes"
   ]
  },
  {
   "cell_type": "code",
   "execution_count": null,
   "metadata": {},
   "outputs": [],
   "source": [
    "from mmf.common.registry import registry\n",
    "\n",
    "model_cls = registry.get_model_class(\"unimodal_image\")\n",
    "model = model_cls.from_pretrained(\"unimodal_image.hateful_memes.images\")"
   ]
  },
  {
   "cell_type": "code",
   "execution_count": null,
   "metadata": {},
   "outputs": [],
   "source": [
    "type(model)"
   ]
  },
  {
   "cell_type": "code",
   "execution_count": null,
   "metadata": {},
   "outputs": [],
   "source": [
    "# Training\n",
    "!mmf_run config=projects/hateful_memes/configs/unimodal/image.yaml model=unimodal_image dataset=hateful_memes"
   ]
  },
  {
   "cell_type": "code",
   "execution_count": null,
   "metadata": {},
   "outputs": [],
   "source": [
    "# Evaluation\n",
    "!mmf_run config=projects/hateful_memes/configs/unimodal/image.yaml model=unimodal_image dataset=hateful_memes run_type=val"
   ]
  },
  {
   "cell_type": "code",
   "execution_count": null,
   "metadata": {},
   "outputs": [],
   "source": [
    "# Predictions\n",
    "#Val\n",
    "!mmf_predict config=projects/hateful_memes/configs/unimodal/image.yaml model=unimodal_image dataset=hateful_memes run_type=val\n",
    "\n",
    "#Test\n",
    "!mmf_predict config=projects/hateful_memes/configs/mmbt/defaults.yaml model=mmbt dataset=hateful_memes run_type=test"
   ]
  },
  {
   "cell_type": "code",
   "execution_count": null,
   "metadata": {},
   "outputs": [],
   "source": [
    "# Evaluating Pretrained Models\n",
    "# Validation set, use the following command:\n",
    "# mmf_run config=projects/hateful_memes/configs/unimodal/image.yaml model=unimodal_image dataset=hateful_memes run_type=val checkpoint.resume_zoo=<REPLACE_WITH_PRETRAINED_ZOO_KEY>\n",
    "# !mmf_run config=projects/hateful_memes/configs/unimodal/image.yaml model=unimodal_image dataset=hateful_memes run_type=val checkpoint.resume_zoo=unimodal_image.hateful_memes.images\n",
    "\n",
    "# To generate predictions using pretrained models, use the following command:\n",
    "    \n",
    "!mmf_predict config=/home/jupyter/meme_hateful_detection/configs/unimodal/image.yaml model=unimodal_image dataset=hateful_memes run_type=test checkpoint.resume_zoo=unimodal_image.hateful_memes.images\n",
    "# mmf_predict config=projects/hateful_memes/configs/unimodal/image.yaml model=unimodal_image dataset=hateful_memes run_type=test checkpoint.resume_zoo=<R"
   ]
  },
  {
   "cell_type": "code",
   "execution_count": null,
   "metadata": {},
   "outputs": [],
   "source": [
    "\n",
    "os.system('ls -l')"
   ]
  },
  {
   "cell_type": "code",
   "execution_count": null,
   "metadata": {},
   "outputs": [],
   "source": [
    "\n",
    "# os.system(str_exec)\n",
    "\n",
    "# myCmd = os.popen(str_exec).read()\n",
    "# print(myCmd)"
   ]
  },
  {
   "cell_type": "code",
   "execution_count": null,
   "metadata": {},
   "outputs": [],
   "source": [
    "from mmf.common.registry import registry\n",
    "\n",
    "\n",
    "import torch\n",
    "import torch.nn as nn\n",
    "from torch.autograd import Variable\n",
    "\n",
    "# # Defining Model\n",
    "# class LinearRegressor(nn.Module):\n",
    "#     def __init__(self, inp_size, require_bias=True):\n",
    "#         super(LinearRegressor, self).__init__()\n",
    "#         self.linear = nn.Linear(in_features=inp_size, out_features=1, bias=require_bias)\n",
    "    \n",
    "#     def forward(self, inp_batch):\n",
    "#         return self.linear(inp_batch)\n",
    "    \n",
    "# Creating sample data for sum of 3 elements\n",
    "X = []\n",
    "for i in range(2):\n",
    "    for j in range(2):\n",
    "        for k in range(2):\n",
    "            X.append([i, j, k])\n",
    "\n",
    "y = map(lambda x: x[0] + x[1] + x[2], X)\n",
    "X = Variable(torch.FloatTensor(X), requires_grad=False)\n",
    "y = Variable(torch.FloatTensor(y), requires_grad=False)\n",
    "\n",
    "# Creating model and defining loss function and optimizer\n",
    "model_cls = registry.get_model_class(\"unimodal_image\")\n",
    "model = model_cls.from_pretrained(\"unimodal_image.hateful_memes.images\")\n",
    "loss_fn = nn.MSELoss()\n",
    "optim = torch.optim.Adam(model.parameters())\n",
    "\n",
    "# Training the model\n",
    "for epoch in range(2):\n",
    "    optim.zero_grad()\n",
    "    \n",
    "    out = model(X)\n",
    "    loss = loss_fn(out, y)\n",
    "    \n",
    "    loss.backward()\n",
    "    optim.step()"
   ]
  },
  {
   "cell_type": "code",
   "execution_count": 2,
   "metadata": {},
   "outputs": [
    {
     "data": {
      "text/plain": [
       "True"
      ]
     },
     "execution_count": 2,
     "metadata": {},
     "output_type": "execute_result"
    }
   ],
   "source": [
    "import torch\n",
    "torch.cuda.is_available()"
   ]
  },
  {
   "cell_type": "code",
   "execution_count": 2,
   "metadata": {},
   "outputs": [
    {
     "name": "stdout",
     "output_type": "stream",
     "text": [
      "1.5.0\n"
     ]
    }
   ],
   "source": [
    "import torch\n",
    "print(torch.__version__)\n",
    "# torch.zeros(1).cuda()"
   ]
  },
  {
   "cell_type": "code",
   "execution_count": 3,
   "metadata": {},
   "outputs": [
    {
     "data": {
      "text/plain": [
       "True"
      ]
     },
     "execution_count": 3,
     "metadata": {},
     "output_type": "execute_result"
    }
   ],
   "source": [
    "torch.backends.cudnn.enabled"
   ]
  },
  {
   "cell_type": "code",
   "execution_count": 1,
   "metadata": {},
   "outputs": [
    {
     "ename": "ModuleNotFoundError",
     "evalue": "No module named 'pycuda'",
     "output_type": "error",
     "traceback": [
      "\u001b[0;31m---------------------------------------------------------------------------\u001b[0m",
      "\u001b[0;31mModuleNotFoundError\u001b[0m                       Traceback (most recent call last)",
      "\u001b[0;32m<ipython-input-1-34b2993cf8e7>\u001b[0m in \u001b[0;36m<module>\u001b[0;34m\u001b[0m\n\u001b[1;32m      1\u001b[0m \u001b[0;32mimport\u001b[0m \u001b[0mtorch\u001b[0m\u001b[0;34m\u001b[0m\u001b[0;34m\u001b[0m\u001b[0m\n\u001b[0;32m----> 2\u001b[0;31m \u001b[0;32mimport\u001b[0m \u001b[0mpycuda\u001b[0m\u001b[0;34m.\u001b[0m\u001b[0mdriver\u001b[0m \u001b[0;32mas\u001b[0m \u001b[0mcuda\u001b[0m\u001b[0;34m\u001b[0m\u001b[0;34m\u001b[0m\u001b[0m\n\u001b[0m\u001b[1;32m      3\u001b[0m \u001b[0mcuda\u001b[0m\u001b[0;34m.\u001b[0m\u001b[0minit\u001b[0m\u001b[0;34m(\u001b[0m\u001b[0;34m)\u001b[0m\u001b[0;34m\u001b[0m\u001b[0;34m\u001b[0m\u001b[0m\n\u001b[1;32m      4\u001b[0m \u001b[0;31m# from __future__ import print_function\u001b[0m\u001b[0;34m\u001b[0m\u001b[0;34m\u001b[0m\u001b[0;34m\u001b[0m\u001b[0m\n\u001b[1;32m      5\u001b[0m \u001b[0;31m# import torch\u001b[0m\u001b[0;34m\u001b[0m\u001b[0;34m\u001b[0m\u001b[0;34m\u001b[0m\u001b[0m\n",
      "\u001b[0;31mModuleNotFoundError\u001b[0m: No module named 'pycuda'"
     ]
    }
   ],
   "source": [
    "import torch\n",
    "import pycuda.driver as cuda\n",
    "cuda.init()\n",
    "# from __future__ import print_function\n",
    "# import torch\n",
    "# x = torch.rand(5, 3)\n",
    "# print(x)"
   ]
  },
  {
   "cell_type": "code",
   "execution_count": null,
   "metadata": {},
   "outputs": [],
   "source": []
  }
 ],
 "metadata": {
  "environment": {
   "name": "pytorch-gpu.1-4.m46",
   "type": "gcloud",
   "uri": "gcr.io/deeplearning-platform-release/pytorch-gpu.1-4:m46"
  },
  "kernelspec": {
   "display_name": "Python 3",
   "language": "python",
   "name": "python3"
  },
  "language_info": {
   "codemirror_mode": {
    "name": "ipython",
    "version": 3
   },
   "file_extension": ".py",
   "mimetype": "text/x-python",
   "name": "python",
   "nbconvert_exporter": "python",
   "pygments_lexer": "ipython3",
   "version": "3.7.6"
  }
 },
 "nbformat": 4,
 "nbformat_minor": 4
}

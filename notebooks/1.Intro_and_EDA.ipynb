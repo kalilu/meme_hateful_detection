{
 "cells": [
  {
   "cell_type": "code",
   "execution_count": null,
   "metadata": {
    "ExecuteTime": {
     "end_time": "2020-05-19T11:17:34.283823Z",
     "start_time": "2020-05-19T11:17:33.169031Z"
    },
    "colab": {},
    "colab_type": "code",
    "id": "MlOWab01vRrE"
   },
   "outputs": [],
   "source": [
    "import pandas as pd\n",
    "import numpy as np"
   ]
  },
  {
   "cell_type": "markdown",
   "metadata": {
    "colab_type": "text",
    "id": "pkK--H3RvRrO"
   },
   "source": [
    "#  1. Exploratory Data Analysis\n",
    "\n",
    "## Context\n",
    "As said above, we've worked on a dataset of job descriptions and their meta information in which a small proportion of these descriptions were fake or scam, which can be identified by the column \"fraudulent\".\n",
    "\n",
    "## Data files\n",
    "train.jsonl - the training set\n",
    "dev.jsonl - the development set\n",
    "test.jsonl - the test set\n",
    "\n",
    "### Columns\n",
    "* id:  Meme id\n",
    "* img: Meme image file\n",
    "* text: A string representing the text in the meme image\n",
    "* label: Probability that the meme is hateful."
   ]
  },
  {
   "cell_type": "code",
   "execution_count": null,
   "metadata": {
    "ExecuteTime": {
     "end_time": "2020-05-19T11:17:34.382574Z",
     "start_time": "2020-05-19T11:17:34.320625Z"
    },
    "colab": {},
    "colab_type": "code",
    "id": "ANB1SLpCvRrP",
    "outputId": "39d51aa2-9055-4de2-80af-47352c7f1956"
   },
   "outputs": [
    {
     "data": {
      "text/html": [
       "<div>\n",
       "<style scoped>\n",
       "    .dataframe tbody tr th:only-of-type {\n",
       "        vertical-align: middle;\n",
       "    }\n",
       "\n",
       "    .dataframe tbody tr th {\n",
       "        vertical-align: top;\n",
       "    }\n",
       "\n",
       "    .dataframe thead th {\n",
       "        text-align: right;\n",
       "    }\n",
       "</style>\n",
       "<table border=\"1\" class=\"dataframe\">\n",
       "  <thead>\n",
       "    <tr style=\"text-align: right;\">\n",
       "      <th></th>\n",
       "      <th>id</th>\n",
       "      <th>img</th>\n",
       "      <th>label</th>\n",
       "      <th>text</th>\n",
       "    </tr>\n",
       "  </thead>\n",
       "  <tbody>\n",
       "    <tr>\n",
       "      <th>0</th>\n",
       "      <td>8291</td>\n",
       "      <td>img/08291.png</td>\n",
       "      <td>1</td>\n",
       "      <td>white people is this a shooting range</td>\n",
       "    </tr>\n",
       "    <tr>\n",
       "      <th>1</th>\n",
       "      <td>46971</td>\n",
       "      <td>img/46971.png</td>\n",
       "      <td>1</td>\n",
       "      <td>bravery at its finest</td>\n",
       "    </tr>\n",
       "    <tr>\n",
       "      <th>2</th>\n",
       "      <td>3745</td>\n",
       "      <td>img/03745.png</td>\n",
       "      <td>1</td>\n",
       "      <td>your order comes to $37.50 and your white priv...</td>\n",
       "    </tr>\n",
       "    <tr>\n",
       "      <th>3</th>\n",
       "      <td>83745</td>\n",
       "      <td>img/83745.png</td>\n",
       "      <td>1</td>\n",
       "      <td>it is time.. to send these parasites back to t...</td>\n",
       "    </tr>\n",
       "    <tr>\n",
       "      <th>4</th>\n",
       "      <td>80243</td>\n",
       "      <td>img/80243.png</td>\n",
       "      <td>1</td>\n",
       "      <td>mississippi wind chime</td>\n",
       "    </tr>\n",
       "  </tbody>\n",
       "</table>\n",
       "</div>"
      ],
      "text/plain": [
       "      id            img  label  \\\n",
       "0   8291  img/08291.png      1   \n",
       "1  46971  img/46971.png      1   \n",
       "2   3745  img/03745.png      1   \n",
       "3  83745  img/83745.png      1   \n",
       "4  80243  img/80243.png      1   \n",
       "\n",
       "                                                text  \n",
       "0              white people is this a shooting range  \n",
       "1                              bravery at its finest  \n",
       "2  your order comes to $37.50 and your white priv...  \n",
       "3  it is time.. to send these parasites back to t...  \n",
       "4                             mississippi wind chime  "
      ]
     },
     "execution_count": 2,
     "metadata": {
      "tags": []
     },
     "output_type": "execute_result"
    }
   ],
   "source": [
    "pd_memes_dev = pd.read_json('../data/dev.jsonl', lines=True)\n",
    "pd_memes_dev.head()"
   ]
  },
  {
   "cell_type": "code",
   "execution_count": null,
   "metadata": {
    "colab": {},
    "colab_type": "code",
    "id": "eWrpM-NUvRrX"
   },
   "outputs": [],
   "source": [
    "pd_memes_normal  = pd_memes_dev[pd_memes_dev['label']==0]\n",
    "pd_memes_hateful = pd_memes_dev[pd_memes_dev['label']==1]"
   ]
  },
  {
   "cell_type": "markdown",
   "metadata": {
    "colab_type": "text",
    "id": "mq-W5JqevRrd"
   },
   "source": [
    "# 2. Word Exploratory Data Analisis"
   ]
  },
  {
   "cell_type": "code",
   "execution_count": null,
   "metadata": {
    "ExecuteTime": {
     "end_time": "2020-05-19T12:23:53.385723Z",
     "start_time": "2020-05-19T12:23:53.356799Z"
    },
    "colab": {},
    "colab_type": "code",
    "id": "-mofHFFgvRrf",
    "outputId": "204b31d3-098a-4cf8-acf5-0a1244cd80fd"
   },
   "outputs": [
    {
     "data": {
      "text/plain": [
       "False    500\n",
       "Name: text, dtype: int64"
      ]
     },
     "execution_count": 3,
     "metadata": {
      "tags": []
     },
     "output_type": "execute_result"
    }
   ],
   "source": [
    "pd_memes_dev['text'].isna().value_counts()"
   ]
  },
  {
   "cell_type": "code",
   "execution_count": null,
   "metadata": {
    "ExecuteTime": {
     "end_time": "2020-05-19T13:09:13.514160Z",
     "start_time": "2020-05-19T13:09:13.508140Z"
    },
    "colab": {},
    "colab_type": "code",
    "id": "UParViZWvRrm"
   },
   "outputs": [],
   "source": [
    "def series_to_str(series_column):\n",
    "    '''This function converts a series to text, concatenating its values'''\n",
    "    return(' '.join(series_column))\n",
    "    \n",
    "# def clean_punctuation(str_text_raw):\n",
    "#     '''This function replace some of the troublemaker puntuation elements in a given text'''\n",
    "#     return(re.sub('[$\\(\\)/|{|\\}#~\\[\\]^#;:!?¿]', ' ', str_text_raw))\n",
    "\n",
    "# def clean_unicode(str_text_raw):\n",
    "#     '''This function eliminate non-unicode text'''\n",
    "#     str_text = re.sub('&amp;', '', str_text_raw)\n",
    "#     return(re.sub(r'[^\\x00-\\x7F]+',' ', str_text))\n",
    "                      \n",
    "# def clean_dot_words(str_text_raw):\n",
    "#     '''This function replace the dots between words'''\n",
    "#     return(re.sub(r'(\\w+)\\.+(\\w+)', r'\\1 \\2',str_text_raw))\n",
    "\n",
    "# def clean_text(str_text_raw):\n",
    "#     '''This function clean a given '''\n",
    "#     str_text = str_text_raw.lower()\n",
    "#     str_text = clean_dot_words(clean_punctuation(clean_unicode(clean_url(str_text))))\n",
    "#     return(str_text)"
   ]
  },
  {
   "cell_type": "code",
   "execution_count": null,
   "metadata": {
    "ExecuteTime": {
     "end_time": "2020-05-19T13:15:35.283366Z",
     "start_time": "2020-05-19T13:15:35.277380Z"
    },
    "colab": {},
    "colab_type": "code",
    "id": "DrHqRsXNvRrs",
    "outputId": "79973dbf-9295-42f2-d291-e378369599a9"
   },
   "outputs": [
    {
     "name": "stdout",
     "output_type": "stream",
     "text": [
      "Total bow with lenght: 27644\n",
      "Total normal memes with lenght: 13610\n",
      "Total hateful memes with lenght: 14033\n"
     ]
    }
   ],
   "source": [
    "str_text_total   = series_to_str(pd_memes_dev.text)\n",
    "str_text_normal  = series_to_str(pd_memes_normal.text)\n",
    "str_text_hateful = series_to_str(pd_memes_hateful.text)\n",
    "print(f'Total bow with lenght: {len(str_text_total)}')\n",
    "print(f'Total normal memes with lenght: {len(str_text_normal)}')\n",
    "print(f'Total hateful memes with lenght: {len(str_text_hateful)}')"
   ]
  },
  {
   "cell_type": "code",
   "execution_count": null,
   "metadata": {
    "ExecuteTime": {
     "end_time": "2020-05-19T13:16:00.372769Z",
     "start_time": "2020-05-19T13:16:00.366780Z"
    },
    "colab": {},
    "colab_type": "code",
    "id": "pgSrUdcVvRr5",
    "outputId": "0aea0342-759e-4f28-b9b6-3383cf8ac12c"
   },
   "outputs": [
    {
     "data": {
      "text/plain": [
       "'white people is this a shooting range bravery at its finest your order comes to $37.50 and your white privilege discount brings the total to $37.50 it is time.. to send these parasites back to the desert mississippi wind chime knowing white people , that\\'s probably the baby father life hack #23 how to get stoned with no weed you\\'ve heard of elf on a shelf, now get ready for cooooooooooooon!!!! when you get to choose your own mental illness dat ass ahmarbkrich*d look! it says it right here! we can fuck goats! enough is enough children are more important than freaks removes polish with chemicals nobody bats an eye removes polish with chemicals everybody loses his shit when you have an 80 point iq but it\\'s the highest in your village my sense of humor is so dark it picks cotton if this offends you you might be lack toes intolerant yes, we know trump said \"mexico will pay for the wall\" but now mexicans are the wall. that boy good!!!! they don\\'t wash their ass with water and they eat their '"
      ]
     },
     "execution_count": 34,
     "metadata": {
      "tags": []
     },
     "output_type": "execute_result"
    }
   ],
   "source": [
    "dict_word_freq_lemma = list_to_bow(list(pd_token['lemma']))\n",
    "wordcloud = WordCloud(width = 1000, height = 500, normalize_plurals=True).generate_from_frequencies(dict_word_freq_lemma)\n",
    "plt.figure(figsize=(20,8))\n",
    "plt.imshow(wordcloud)\n",
    "plt.axis('off')\n",
    "plt.title(\"Most frequent words'lemmas\", fontsize=25)\n",
    "plt.savefig(\"images/output_images/lemmasWC.png\")\n",
    "plt.show"
   ]
  },
  {
   "cell_type": "code",
   "execution_count": null,
   "metadata": {
    "colab": {},
    "colab_type": "code",
    "id": "RkFMlJfMvRsD"
   },
   "outputs": [],
   "source": [
    "def clean_urls(column):\n",
    "    '''\n",
    "    This function takes a string and returns a string \n",
    "    with its urls removed and all the words in lowercase.\n",
    "    '''\n",
    "    return column.apply(lambda x: x.lower()).apply(lambda x: re.sub('http[s]?://\\S+', '', x))\n",
    "\n",
    "\n",
    "\n",
    "text_columns['text'] = clean_urls(text_columns['text'])"
   ]
  }
 ],
 "metadata": {
  "colab": {
   "name": "1.Intro_and_EDA.ipynb",
   "provenance": []
  },
  "environment": {
   "name": "tf2-gpu.2-1.m46",
   "type": "gcloud",
   "uri": "gcr.io/deeplearning-platform-release/tf2-gpu.2-1:m46"
  },
  "kernelspec": {
   "display_name": "Python 3",
   "language": "python",
   "name": "python3"
  },
  "language_info": {
   "codemirror_mode": {
    "name": "ipython",
    "version": 3
   },
   "file_extension": ".py",
   "mimetype": "text/x-python",
   "name": "python",
   "nbconvert_exporter": "python",
   "pygments_lexer": "ipython3",
   "version": "3.7.6"
  },
  "latex_envs": {
   "LaTeX_envs_menu_present": true,
   "autoclose": false,
   "autocomplete": true,
   "bibliofile": "biblio.bib",
   "cite_by": "apalike",
   "current_citInitial": 1,
   "eqLabelWithNumbers": true,
   "eqNumInitial": 1,
   "hotkeys": {
    "equation": "Ctrl-E",
    "itemize": "Ctrl-I"
   },
   "labels_anchors": false,
   "latex_user_defs": false,
   "report_style_numbering": false,
   "user_envs_cfg": false
  },
  "toc": {
   "base_numbering": 1,
   "nav_menu": {},
   "number_sections": false,
   "sideBar": true,
   "skip_h1_title": false,
   "title_cell": "Table of Contents",
   "title_sidebar": "Contents",
   "toc_cell": false,
   "toc_position": {},
   "toc_section_display": true,
   "toc_window_display": true
  },
  "varInspector": {
   "cols": {
    "lenName": 16,
    "lenType": 16,
    "lenVar": 40
   },
   "kernels_config": {
    "python": {
     "delete_cmd_postfix": "",
     "delete_cmd_prefix": "del ",
     "library": "var_list.py",
     "varRefreshCmd": "print(var_dic_list())"
    },
    "r": {
     "delete_cmd_postfix": ") ",
     "delete_cmd_prefix": "rm(",
     "library": "var_list.r",
     "varRefreshCmd": "cat(var_dic_list()) "
    }
   },
   "types_to_exclude": [
    "module",
    "function",
    "builtin_function_or_method",
    "instance",
    "_Feature"
   ],
   "window_display": false
  }
 },
 "nbformat": 4,
 "nbformat_minor": 4
}

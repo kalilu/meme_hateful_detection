{
 "cells": [
  {
   "cell_type": "code",
   "execution_count": 1,
   "metadata": {},
   "outputs": [],
   "source": [
    "import pandas as pd\n",
    "import os\n",
    "import re\n",
    "import csv\n",
    "\n",
    "str_path_unimodal_text = '/home/jupyter/meme_hateful_detection/save/logs/train_2020-06-01T20:44:16.log'"
   ]
  },
  {
   "cell_type": "code",
   "execution_count": 3,
   "metadata": {},
   "outputs": [
    {
     "ename": "AttributeError",
     "evalue": "module 'torch.cuda' has no attribute 'current_context'",
     "output_type": "error",
     "traceback": [
      "\u001b[0;31m---------------------------------------------------------------------------\u001b[0m",
      "\u001b[0;31mAttributeError\u001b[0m                            Traceback (most recent call last)",
      "\u001b[0;32m<ipython-input-3-1c9355f12d05>\u001b[0m in \u001b[0;36m<module>\u001b[0;34m\u001b[0m\n\u001b[0;32m----> 1\u001b[0;31m \u001b[0mtorch\u001b[0m\u001b[0;34m.\u001b[0m\u001b[0mcuda\u001b[0m\u001b[0;34m.\u001b[0m\u001b[0mcurrent_context\u001b[0m\u001b[0;34m(\u001b[0m\u001b[0;34m)\u001b[0m\u001b[0;34m.\u001b[0m\u001b[0mtrashing\u001b[0m\u001b[0;34m.\u001b[0m\u001b[0mclear\u001b[0m\u001b[0;34m(\u001b[0m\u001b[0;34m)\u001b[0m\u001b[0;34m\u001b[0m\u001b[0;34m\u001b[0m\u001b[0m\n\u001b[0m",
      "\u001b[0;31mAttributeError\u001b[0m: module 'torch.cuda' has no attribute 'current_context'"
     ]
    }
   ],
   "source": [
    "import re\n",
    "import time\n",
    "from time import strftime\n",
    " \n",
    "def main():\n",
    "    file = str_path_unimodal_text\n",
    "    regex = '(<property name=\"(.*?)\">(.*?)<\\/property>)'\n",
    " \n",
    "    parseData(log_file_path, export_file, regex, read_line=True)\n",
    " \n",
    " \n",
    " \n",
    "def parseData(log_file_path, export_file, regex, read_line=True):\n",
    "    with open(log_file_path, \"r\") as file:\n",
    "        match_list = []\n",
    "        if read_line == True:\n",
    "            for line in file:\n",
    "                for match in re.finditer(regex, line, re.S):\n",
    "                    match_text = match.group()\n",
    "                    match_list.append(match_text)\n",
    "                    print match_text\n",
    "        else:\n",
    "            data = file.read()\n",
    "            for match in re.finditer(regex, data, re.S):\n",
    "                match_text = match.group();\n",
    "                match_list.append(match_text)\n",
    "    file.close()\n",
    " \n",
    "    with open(export_file, \"w+\") as file:\n",
    "        file.write(\"EXPORTED DATA:\\n\")\n",
    "        match_list_clean = list(set(match_list))\n",
    "        for item in xrange(0, len(match_list_clean)):\n",
    "            print match_list_clean[item]\n",
    "            file.write(match_list_clean[item] + \"\\n\")\n",
    "    file.close()\n",
    " \n",
    "if __name__ == '__main__':\n",
    "    main()\n",
    "            "
   ]
  },
  {
   "cell_type": "code",
   "execution_count": null,
   "metadata": {},
   "outputs": [],
   "source": []
  }
 ],
 "metadata": {
  "environment": {
   "name": "pytorch-gpu.1-4.m46",
   "type": "gcloud",
   "uri": "gcr.io/deeplearning-platform-release/pytorch-gpu.1-4:m46"
  },
  "kernelspec": {
   "display_name": "Python 3",
   "language": "python",
   "name": "python3"
  },
  "language_info": {
   "codemirror_mode": {
    "name": "ipython",
    "version": 3
   },
   "file_extension": ".py",
   "mimetype": "text/x-python",
   "name": "python",
   "nbconvert_exporter": "python",
   "pygments_lexer": "ipython3",
   "version": "3.7.6"
  }
 },
 "nbformat": 4,
 "nbformat_minor": 4
}

{
 "cells": [
  {
   "cell_type": "code",
   "execution_count": null,
   "metadata": {},
   "outputs": [],
   "source": [
    "import sys\n",
    "import os\n",
    "import pandas as pd\n",
    "from torch.utils.tensorboard import SummaryWriter\n",
    "import numpy as np\n",
    "\n",
    "PATH_CURRENT = '/home/jupyter/meme_hateful_detection'\n",
    "PATH_MODEL = f'{PATH_CURRENT}/models'\n",
    "PATH_DATA = f'{PATH_CURRENT}/data/raw'\n",
    "PATH_SAVE = f'{PATH_CURRENT}/save'\n",
    "PATH_LOGS = f'{PATH_SAVE}/logs'\n",
    "PATH_REPO = f'{PATH_SAVE}/reports'\n",
    "\n",
    "\n",
    "os.environ\n",
    "os.environ['MMF_DATA_DIR'] = PATH_DATA\n",
    "os.environ['MMF_SAVE_DIR'] = PATH_SAVE\n",
    "os.environ['MMF_LOG_DIR']  = PATH_LOGS\n",
    "os.environ['MMF_REPORT_DIR']  = PATH_REPO\n",
    "os.environ['MMF_USER_DIR']  = PATH_CURRENT\n",
    "os.environ['OC_DISABLE_DOT_ACCESS_WARNING'] = '1'\n",
    "# print(os.environ)\n",
    "\n",
    "if PATH_CURRENT not in sys.path:\n",
    "    sys.path.append(PATH_CURRENT)\n",
    "if PATH_MODEL not in sys.path:\n",
    "    sys.path.append(PATH_MODEL)\n",
    "if PATH_DATA not in sys.path:\n",
    "    sys.path.append(PATH_DATA)\n",
    "# print(sys.path)\n",
    "\n",
    "import warnings\n",
    "warnings.filterwarnings('ignore')"
   ]
  },
  {
   "cell_type": "code",
   "execution_count": 1,
   "metadata": {},
   "outputs": [
    {
     "name": "stdout",
     "output_type": "stream",
     "text": [
      "1.14.0\n"
     ]
    }
   ],
   "source": [
    "import tensorflow as tf\n",
    "\n",
    "# a = tf.Variable(1, name=\"a\")\n",
    "# b = tf.Variable(2, name=\"b\")\n",
    "# f = a + b\n",
    "\n",
    "# tf.print(\"The sum of a and b is\", f)\n",
    "print(tf.__version__)"
   ]
  },
  {
   "cell_type": "markdown",
   "metadata": {},
   "source": [
    "| Baseline         | Model Key      | Pretrained Key                                   | Baseine Config                                                     |\n",
    "|------------------|----------------|--------------------------------------------------|------------------------------------------------------------|\n",
    "| Image-Grid       | unimodal_image | unimodal_image.hateful_memes.images              | projects/hateful_memes/configs/unimodal/image.yaml         |\n",
    "| Image-Region     | unimodal_image | unimodal_image.hateful_memes.features            | projects/hateful_memes/configs/unimodal/with_features.yaml |\n",
    "| Text BERT        | unimodal_text  | unimodal_text.hateful_memes.bert                 | projects/hateful_memes/configs/unimodal/bert.yaml          |\n",
    "| Late Fusion      | late_fusion    | late_fusion.hateful_memes                        | projects/hateful_memes/configs/late_fusion/defaults.yaml   |\n",
    "| ConcatBERT       | concat_bert    | concat_bert.hateful_memes                        | projects/hateful_memes/configs/concat_bert/defaults.yaml   |\n",
    "| MMBT-Grid        | mmbt           | mmbt.hateful_memes.images                        | projects/hateful_memes/configs/mmbt/defaults.yaml          |\n",
    "| MMBT-Region      | mmbt           | mmbt.hateful_memes.features                      | projects/hateful_memes/configs/mmbt/with_features.yaml     |\n",
    "| ViLBERT          | vilbert        | vilbert.finetuned.hateful_memes.direct           | projects/hateful_memes/configs/vilbert/defaults.yaml       |\n",
    "| Visual BERT      | visual_bert    | visual_bert.finetuned.hateful_memes.direct       | projects/hateful_memes/configs/visual_bert/direct.yaml     |\n",
    "| ViLBERT CC       | vilbert        | vilbert.finetuned.hateful_memes.from_cc_original | projects/hateful_memes/configs/vilbert/from_cc.yaml        |\n",
    "| Visual BERT COCO | visual_bert    | visual_bert.finetuned.hateful_memes.from_coco    | projects/hateful_memes/configs/visual_bert/from_coco.yaml  |"
   ]
  },
  {
   "cell_type": "code",
   "execution_count": null,
   "metadata": {},
   "outputs": [],
   "source": [
    "# !mmf_convert_hm --zip_file={PATH_DATA}/facebook_memes.zip --password=KexZs4tn8hujn1nK"
   ]
  },
  {
   "cell_type": "code",
   "execution_count": null,
   "metadata": {},
   "outputs": [],
   "source": [
    "df_model_config = pd.read_csv(f'{PATH_MODEL}/model_config.csv', sep = ',')\n",
    "df_model_config.head()"
   ]
  },
  {
   "cell_type": "code",
   "execution_count": null,
   "metadata": {},
   "outputs": [],
   "source": [
    "#Training model \n",
    "for index, row in df_model_config.iterrows():\n",
    "    model_baseline = row['baseline']\n",
    "    model_key = row['model_key']\n",
    "    model_pretrained_key = row['pretrained_key']\n",
    "    baseline_config = row['baseline_config']\n",
    "    custom_config = row['custom_config']\n",
    "    str_run_train = f'MMF_SAVE_DIR=\"{PATH_SAVE}/{model_key}\" mmf_run config={custom_config} model={model_key} dataset=hateful_memes'\n",
    "#     !{str_run_train}\n",
    "    print(str_run_train)"
   ]
  },
  {
   "cell_type": "code",
   "execution_count": null,
   "metadata": {},
   "outputs": [],
   "source": [
    "# !MMF_SAVE_DIR=\"/home/jupyter/meme_hateful_detection/save/unimodal_image\" mmf_run config=configs/unimodal/image_custom.yaml model=unimodal_image dataset=hateful_memes"
   ]
  },
  {
   "cell_type": "code",
   "execution_count": null,
   "metadata": {},
   "outputs": [],
   "source": [
    "# !MMF_SAVE_DIR=\"/home/jupyter/meme_hateful_detection/save/unimodal_image\" mmf_run config=configs/unimodal/with_features_custom.yaml model=unimodal_image dataset=hateful_memes"
   ]
  },
  {
   "cell_type": "code",
   "execution_count": null,
   "metadata": {},
   "outputs": [],
   "source": [
    "# !MMF_SAVE_DIR=\"/home/jupyter/meme_hateful_detection/save/unimodal_text\" mmf_run config=configs/unimodal/bert_custom.yaml model=unimodal_text dataset=hateful_memes"
   ]
  },
  {
   "cell_type": "code",
   "execution_count": null,
   "metadata": {},
   "outputs": [],
   "source": [
    "# !MMF_SAVE_DIR=\"/home/jupyter/meme_hateful_detection/save/late_fusion\" mmf_run config=configs/late_fusion/defaults_custom.yaml model=late_fusion dataset=hateful_memes"
   ]
  },
  {
   "cell_type": "code",
   "execution_count": null,
   "metadata": {},
   "outputs": [],
   "source": [
    "# !MMF_SAVE_DIR=\"/home/jupyter/meme_hateful_detection/save/concat_bert\" mmf_run config=configs/concat_bert/defaults_custom.yaml model=concat_bert dataset=hateful_memes"
   ]
  },
  {
   "cell_type": "code",
   "execution_count": null,
   "metadata": {},
   "outputs": [],
   "source": [
    "import gc\n",
    "gc.collect()\n",
    "import torch\n",
    "torch.cuda.empty_cache()\n",
    "# torch.cuda."
   ]
  },
  {
   "cell_type": "code",
   "execution_count": null,
   "metadata": {},
   "outputs": [],
   "source": [
    "#Evaluation\n",
    "for index, row in df_model_config.iterrows():\n",
    "    model_baseline = row['baseline']\n",
    "    model_key = row['model_key']\n",
    "    model_pretrained_key = row['pretrained_key']\n",
    "    baseline_config = row['baseline_config']\n",
    "    custom_config = row['custom_config']\n",
    "    str_run_eval  = f'mmf_run config={custom_config} model={model_key} dataset=hateful_memes run_type=val'\n",
    "#     !{str_run_eval}\n",
    "    print(str_run_eval)"
   ]
  },
  {
   "cell_type": "code",
   "execution_count": null,
   "metadata": {},
   "outputs": [],
   "source": [
    "#Predictions val\n",
    "for index, row in df_model_config.iterrows():\n",
    "    model_baseline = row['baseline']\n",
    "    model_key = row['model_key']\n",
    "    model_pretrained_key = row['pretrained_key']\n",
    "    baseline_config = row['baseline_config']\n",
    "    custom_config = row['custom_config']\n",
    "    str_pred_eval = f'mmf_predict config={custom_config} model={model_key} dataset=hateful_memes run_type=val'\n",
    "#     !{str_pred_eval}\n",
    "    print(str_pred_eval)"
   ]
  },
  {
   "cell_type": "code",
   "execution_count": null,
   "metadata": {},
   "outputs": [],
   "source": [
    "# Loading pretrained model in your code\n",
    "model_baseline = 'Image-Grid'\n",
    "model_key = 'unimodal_image'\n",
    "model_pretrained_key = 'unimodal_image.hateful_memes.images'\n",
    "baseline_config = 'configs/unimodal/image.yaml'\n",
    "custom_config = row['custom_config']\n",
    "# Training\n",
    "str_run_train = f'mmf_run config={custom_config} model={model_key} dataset=hateful_memes'\n",
    "# Evaluation\n",
    "str_run_eval  = f'mmf_run config={custom_config} model={model_key} dataset=hateful_memes run_type=val'\n",
    "# Predictions val\n",
    "str_pred_eval = f'mmf_predict config={custom_config} model={model_key} dataset=hateful_memes run_type=val'\n",
    "# Predictions test\n",
    "str_pred_test = f'mmf_predict config={custom_config} model={model_key} dataset=hateful_memes run_type=test'\n",
    "# Evaluating Pretrained Models\n",
    "str_pret_eval = f'mmf_run config={custom_config} model={model_key} dataset=hateful_memes run_type=val checkpoint.resume_zoo={model_pretrained_key}'\n",
    "# Predictions Pretrained Models\n",
    "str_pret_test = f'mmf_predict config={custom_config} model={model_key} dataset=hateful_memes run_type=test checkpoint.resume_zoo={model_pretrained_key}'"
   ]
  },
  {
   "cell_type": "code",
   "execution_count": null,
   "metadata": {},
   "outputs": [],
   "source": [
    "# Predictions\n",
    "#Val\n",
    "for index, row in df_model_config.iterrows():\n",
    "    model_baseline = row['baseline']\n",
    "    model_key = row['model_key']\n",
    "    model_pretrained_key = row['pretrained_key']\n",
    "    baseline_config = row['baseline_config']\n",
    "    custom_config = row['custom_config']\n",
    "    str_exec = f'mmf_run config={custom_config} model={model_key} dataset=hateful_memes run_type=val checkpoint.resume_zoo={model_pretrained_key} evalai_inference=1 resume_file=data/[model].pth'\n",
    "    !{str_exec}\n",
    "#     print(str_exec)\n",
    "python tools/run.py --datasets [dataset] --model [model] --config [config] \\\n",
    "--run_type inference --evalai_inference 1 --resume_file data/[model].pth"
   ]
  },
  {
   "cell_type": "code",
   "execution_count": null,
   "metadata": {},
   "outputs": [],
   "source": [
    "#Test\n",
    "for index, row in df_model_config.iterrows():\n",
    "    model_baseline = row['baseline']\n",
    "    model_key = row['model_key']\n",
    "    model_pretrained_key = row['pretrained_key']\n",
    "    baseline_config = row['baseline_config']\n",
    "    custom_config = row['custom_config']\n",
    "    str_exec = f'mmf_predict config={baseline_config} model={model_key} dataset=hateful_memes run_type=test checkpoint.resume_zoo={model_pretrained_key}'\n",
    "    !{str_exec}\n",
    "#     print(str_exec)\n",
    "#     MMF_USER_DIR=\".\" mmf_run config=\"configs/experiments/defaults.yaml\"  model=concat_vl dataset=hateful_memes training.num_workers=0"
   ]
  },
  {
   "cell_type": "code",
   "execution_count": null,
   "metadata": {},
   "outputs": [],
   "source": [
    "import gc\n",
    "gc.collect()"
   ]
  },
  {
   "cell_type": "code",
   "execution_count": null,
   "metadata": {},
   "outputs": [],
   "source": [
    "from mmf.common.registry import registry\n",
    "\n",
    "model_cls = registry.get_model_class(\"unimodal_image\")\n",
    "model = model_cls.from_pretrained(\"unimodal_image.hateful_memes.images\")\n",
    "\n",
    "# model.load_weights(\"weights.hdf5\").\n",
    "model.load_weights(\"/home/jupyter/meme_hateful_detection/save/models/model_1000.ckpt\")\n",
    "# Compile model (required to make predictions)\n",
    "# model.compile(loss='binary_crossentropy', optimizer='adam', metrics=['accuracy'])\n",
    "print(\"Created model and loaded weights from file\")\n",
    "# load pima indians dataset\n",
    "# dataset = numpy.loadtxt(\"pima-indians-diabetes.csv\", delimiter=\",\")\n",
    "# split into input (X) and output (Y) variables\n",
    "# X = dataset[:,0:8]\n",
    "# Y = dataset[:,8]\n",
    "# estimate accuracy on whole dataset using loaded weights\n",
    "# scores = model.evaluate(X, Y, verbose=0)\n",
    "print(\"%s: %.2f%%\" % (model.metrics_names[1], scores[1]*100))\n",
    "# Runni"
   ]
  },
  {
   "cell_type": "code",
   "execution_count": null,
   "metadata": {},
   "outputs": [],
   "source": []
  }
 ],
 "metadata": {
  "environment": {
   "name": "pytorch-gpu.1-4.m46",
   "type": "gcloud",
   "uri": "gcr.io/deeplearning-platform-release/pytorch-gpu.1-4:m46"
  },
  "kernelspec": {
   "display_name": "Python 3",
   "language": "python",
   "name": "python3"
  },
  "language_info": {
   "codemirror_mode": {
    "name": "ipython",
    "version": 3
   },
   "file_extension": ".py",
   "mimetype": "text/x-python",
   "name": "python",
   "nbconvert_exporter": "python",
   "pygments_lexer": "ipython3",
   "version": "3.7.6"
  }
 },
 "nbformat": 4,
 "nbformat_minor": 4
}
